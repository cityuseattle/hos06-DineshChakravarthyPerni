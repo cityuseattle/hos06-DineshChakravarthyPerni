{
 "cells": [
  {
   "cell_type": "code",
   "execution_count": 1,
   "metadata": {},
   "outputs": [],
   "source": [
    "import numpy as np"
   ]
  },
  {
   "cell_type": "code",
   "execution_count": 3,
   "metadata": {},
   "outputs": [
    {
     "name": "stdout",
     "output_type": "stream",
     "text": [
      "Rank 1 array\n",
      "<class 'numpy.ndarray'>\n",
      "int32\n",
      "(3,)\n",
      "1 2 3\n",
      "[1 2 4]\n",
      "\n",
      "Rank 2 array\n",
      "(2, 3)\n",
      "1 2 4\n",
      "[4 5 6]\n"
     ]
    }
   ],
   "source": [
    "#create rank 1 dim array\n",
    "arr = np.array([1,2,3])\n",
    "print(\"Rank 1 array\")\n",
    "print(type(arr))\n",
    "print(arr.dtype)\n",
    "print(arr.shape)\n",
    "print(arr[0],arr[1], arr[2])\n",
    "arr[2] = 4\n",
    "print(arr)\n",
    "\n",
    "#create rank 2 array\n",
    "arr2 = np.array([[1,2,3],[4,5,6]])\n",
    "print(\"\\nRank 2 array\")\n",
    "print(arr2.shape)\n",
    "print(arr2[0,0], arr2[0,1],arr2[1,0])\n",
    "print(arr2[-1])\n",
    "\n"
   ]
  },
  {
   "cell_type": "code",
   "execution_count": 4,
   "metadata": {},
   "outputs": [
    {
     "name": "stdout",
     "output_type": "stream",
     "text": [
      "[0 2 4 6]\n",
      "[[1 2]\n",
      " [5 6]]\n",
      "[1 4 6]\n"
     ]
    }
   ],
   "source": [
    "# array indexing\n",
    "\n",
    "arr = np.arange(10)\n",
    "print(arr[0:8:2])\n",
    "\n",
    "#create rank2 with shape (3,4) array\n",
    "arr = np.array([[1,2,3,4],[5,6,7,8],[9,10,11,12]])\n",
    "print(arr[:2,:2])\n",
    "\n",
    "#integer indexing\n",
    "arr = np.array([[1,2],[3,4],[5,6]])\n",
    "print(arr[[0,1,2],[0,1,1]])"
   ]
  }
 ],
 "metadata": {
  "kernelspec": {
   "display_name": "Python 3",
   "language": "python",
   "name": "python3"
  },
  "language_info": {
   "codemirror_mode": {
    "name": "ipython",
    "version": 3
   },
   "file_extension": ".py",
   "mimetype": "text/x-python",
   "name": "python",
   "nbconvert_exporter": "python",
   "pygments_lexer": "ipython3",
   "version": "3.11.1"
  },
  "orig_nbformat": 4,
  "vscode": {
   "interpreter": {
    "hash": "8739e4b358eae07c3281d9c8f6f7d7251326c4bd9bea69a29571a5fa3f04719e"
   }
  }
 },
 "nbformat": 4,
 "nbformat_minor": 2
}
